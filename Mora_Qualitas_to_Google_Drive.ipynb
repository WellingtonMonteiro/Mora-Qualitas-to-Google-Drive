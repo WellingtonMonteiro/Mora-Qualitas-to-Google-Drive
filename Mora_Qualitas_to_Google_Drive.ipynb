{
  "nbformat": 4,
  "nbformat_minor": 0,
  "metadata": {
    "colab": {
      "name": "Mora Qualitas to Google Drive.ipynb",
      "provenance": [],
      "collapsed_sections": [],
      "authorship_tag": "ABX9TyNqCUATQpStFctjby3ocGqA",
      "include_colab_link": true
    },
    "kernelspec": {
      "name": "python3",
      "display_name": "Python 3"
    }
  },
  "cells": [
    {
      "cell_type": "markdown",
      "metadata": {
        "id": "view-in-github",
        "colab_type": "text"
      },
      "source": [
        "<a href=\"https://colab.research.google.com/github/WellingtonMonteiro/Mora-Qualitas-to-Google-Drive/blob/main/Mora_Qualitas_to_Google_Drive.ipynb\" target=\"_parent\"><img src=\"https://colab.research.google.com/assets/colab-badge.svg\" alt=\"Open In Colab\"/></a>"
      ]
    },
    {
      "cell_type": "code",
      "metadata": {
        "id": "88w9IioK4rAY"
      },
      "source": [
        " from google.colab import drive \n",
        "drive.mount('/content/drive')"
      ],
      "execution_count": null,
      "outputs": []
    },
    {
      "cell_type": "code",
      "metadata": {
        "id": "EQZg7cfgQbeb"
      },
      "source": [
        " %cd /content/drive/MyDrive"
      ],
      "execution_count": null,
      "outputs": []
    },
    {
      "cell_type": "code",
      "metadata": {
        "id": "V-Qn5fv-Qh84"
      },
      "source": [
        " !apt install python ffmpeg git"
      ],
      "execution_count": null,
      "outputs": []
    },
    {
      "cell_type": "code",
      "metadata": {
        "id": "clGvnx7sREx6"
      },
      "source": [
        " !git clone https://github.com/Sorrow446/MQ-DL.git"
      ],
      "execution_count": null,
      "outputs": []
    },
    {
      "cell_type": "code",
      "metadata": {
        "id": "Se5806GzRMnN"
      },
      "source": [
        "%cd MQ-DL"
      ],
      "execution_count": null,
      "outputs": []
    },
    {
      "cell_type": "code",
      "metadata": {
        "id": "T-k7xXUQRRUX"
      },
      "source": [
        "!pip install -r requirements.txt"
      ],
      "execution_count": null,
      "outputs": []
    },
    {
      "cell_type": "code",
      "metadata": {
        "id": "avx9hoLBXqFR"
      },
      "source": [
        "!python mq-dl.py -u https://content.mora-qualitas.com/artist/linked-horizon/album/514496546"
      ],
      "execution_count": null,
      "outputs": []
    }
  ]
}